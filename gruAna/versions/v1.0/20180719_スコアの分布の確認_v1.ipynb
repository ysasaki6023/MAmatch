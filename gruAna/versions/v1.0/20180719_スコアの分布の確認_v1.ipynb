{
 "cells": [
  {
   "cell_type": "code",
   "execution_count": 64,
   "metadata": {
    "collapsed": false,
    "deletable": true,
    "editable": true
   },
   "outputs": [],
   "source": [
    "%matplotlib inline\n",
    "import sys,os,argparse\n",
    "sys.path.append(\"../\")\n",
    "import numpy as np\n",
    "import pandas as pd\n",
    "import numpy as np\n",
    "import matplotlib.pyplot as plt\n",
    "import view\n",
    "reload(view)\n",
    "\n",
    "dd = pd.read_csv(\"../all.csv\")\n",
    "#print d.columns"
   ]
  },
  {
   "cell_type": "code",
   "execution_count": 65,
   "metadata": {
    "collapsed": false,
    "deletable": true,
    "editable": true
   },
   "outputs": [
    {
     "name": "stdout",
     "output_type": "stream",
     "text": [
      "____________________________________________________________________________________________________\n",
      "Layer (type)                     Output Shape          Param #     Connected to                     \n",
      "====================================================================================================\n",
      "input_1 (InputLayer)             (None, 20, 100)       0                                            \n",
      "____________________________________________________________________________________________________\n",
      "input_2 (InputLayer)             (None, 20, 100)       0                                            \n",
      "____________________________________________________________________________________________________\n",
      "sequential_9 (Sequential)        (None, 64)            1948736     input_1[0][0]                    \n",
      "                                                                   input_2[0][0]                    \n",
      "____________________________________________________________________________________________________\n",
      "distance (Lambda)                (None, 1)             0           sequential_9[1][0]               \n",
      "                                                                   sequential_9[2][0]               \n",
      "====================================================================================================\n",
      "Total params: 1,948,736\n",
      "Trainable params: 1,948,736\n",
      "Non-trainable params: 0\n",
      "____________________________________________________________________________________________________\n",
      "model loaded from ../models/BusinessDescription_minCount100_nLength20_nGRU512/weights.2329.hdf5\n"
     ]
    }
   ],
   "source": [
    "d = view.DataAccessor()\n",
    "d.loadCSV(\"../all.csv\")\n",
    "d.loadW2V(\"../w2v/wiki_mincount100.w2v\")\n",
    "t = view.view(d,columnPairs=(u\"Acquiror business description(s)\",u\"Target business description(s)\"),nBatch=256,nLength=20,reloadPath=\"../models/BusinessDescription_minCount100_nLength20_nGRU512/weights.2329.hdf5\")"
   ]
  },
  {
   "cell_type": "code",
   "execution_count": 45,
   "metadata": {
    "collapsed": false,
    "deletable": true,
    "editable": true
   },
   "outputs": [],
   "source": [
    "score,text,index = t.testAllFromStr(\"Chemicals distributor, Rubber and latex products distributor\")"
   ]
  },
  {
   "cell_type": "code",
   "execution_count": 46,
   "metadata": {
    "collapsed": false,
    "deletable": true,
    "editable": true
   },
   "outputs": [
    {
     "name": "stdout",
     "output_type": "stream",
     "text": [
      "          inex                                              score\n",
      "71630    71630  1-net solution consulting services, Homepage d...\n",
      "12234    12234  10 KV box transformer substation manufacturer,...\n",
      "12232    12232  10 KV box transformer substation manufacturer,...\n",
      "12231    12231  10 KV box transformer substation manufacturer,...\n",
      "12230    12230  10 KV box transformer substation manufacturer,...\n",
      "12229    12229  10 KV box transformer substation manufacturer,...\n",
      "12228    12228  10 KV box transformer substation manufacturer,...\n",
      "12227    12227  10 KV box transformer substation manufacturer,...\n",
      "12226    12226  10 KV box transformer substation manufacturer,...\n",
      "12235    12235  10 KV box transformer substation manufacturer,...\n",
      "12233    12233  10 KV box transformer substation manufacturer,...\n",
      "76000    76000                              100 yen shop operator\n",
      "76001    76001                              100 yen shop operator\n",
      "60018    60018                             100 yen store operator\n",
      "77114    77114    100yen shop operator, Food supermarket operator\n",
      "947        947  24 hour operator assisted telephone business d...\n",
      "946        946  24 hour operator assisted telephone business d...\n",
      "74339    74339  24 hours medical consulting call centre operat...\n",
      "121277  121277  24-hour disaster emergency services relief pro...\n",
      "111629  111629            24-hour health and fitness gym services\n",
      "50318    50318                           2D CAD system wholesaler\n",
      "143399  143399                   2D and 3D color imaging services\n",
      "132513  132513               2D and 3D design software wholesaler\n",
      "49832    49832  2D and 3D graphic design gambing games and pro...\n",
      "78598    78598                              2D animation producer\n",
      "84908    84908  2D barcode generation technology for PDF softw...\n",
      "42519    42519  2D image into 3D floor planner software developer\n",
      "106212  106212    2D vector design and cutting software developer\n",
      "88032    88032                3 chamber incinerators manufacturer\n",
      "76746    76746  3-D architectural design and animation studio ...\n",
      "...        ...                                                ...\n",
      "29776    29776    eCommerce software-as-a-service (SaaS) provider\n",
      "29774    29774    eCommerce software-as-a-service (SaaS) provider\n",
      "29775    29775    eCommerce software-as-a-service (SaaS) provider\n",
      "117347  117347  eCommerce solutions consultancy services, eCom...\n",
      "113693  113693  eDisclosure and forensic-consulting services p...\n",
      "106976  106976               eDiscovery and data managed services\n",
      "106977  106977               eDiscovery and data managed services\n",
      "109818  109818           eSports sponsorship consultancy services\n",
      "109817  109817           eSports sponsorship consultancy services\n",
      "112126  112126                             electrical contractors\n",
      "101254  101254               iBeacon mobile application developer\n",
      "75228    75228           iOS and Android coding training services\n",
      "147467  147467                                iPS cell wholesaler\n",
      "69434    69434                        iPad applications developer\n",
      "30297    30297  iPhone apps recommendations sharing platform d...\n",
      "30298    30298  iPhone apps recommendations sharing platform d...\n",
      "30299    30299  iPhone apps recommendations sharing platform d...\n",
      "152442  152442  iPhone, Android and Google Glass communication...\n",
      "152438  152438  iPhone, Android and Google Glass communication...\n",
      "152440  152440  iPhone, Android and Google Glass communication...\n",
      "152439  152439  iPhone, Android and Google Glass communication...\n",
      "152441  152441  iPhone, Android and Google Glass communication...\n",
      "152437  152437  iPhone, Android and Google Glass communication...\n",
      "82410    82410  iPhone, iPad and Android mobile applications d...\n",
      "79553    79553    intelligent question bank application developer\n",
      "79554    79554    intelligent question bank application developer\n",
      "79555    79555    intelligent question bank application developer\n",
      "111565  111565                    leading-edge software developer\n",
      "76050    76050  telecommunications equipment and systems retailer\n",
      "73618    73618                      titanium dioxide manufacturer\n",
      "\n",
      "[153715 rows x 2 columns]\n"
     ]
    },
    {
     "name": "stderr",
     "output_type": "stream",
     "text": [
      "/home/ysasaki/.local/lib/python2.7/site-packages/ipykernel/__main__.py:3: FutureWarning: sort(columns=....) is deprecated, use sort_values(by=.....)\n",
      "  app.launch_new_instance()\n"
     ]
    }
   ],
   "source": [
    "df = pd.DataFrame({\"score\":score,\"inex\":index,\"score\":text})\n",
    "df.to_csv(\"1.csv\")\n",
    "print df.sort(columns=\"score\")"
   ]
  },
  {
   "cell_type": "code",
   "execution_count": 50,
   "metadata": {
    "collapsed": false,
    "deletable": true,
    "editable": true,
    "scrolled": true
   },
   "outputs": [
    {
     "name": "stdout",
     "output_type": "stream",
     "text": [
      "0         Biopharmaceuticals developer, Biopharmaceutica...\n",
      "1         Food condiments and sauces manufacturer holdin...\n",
      "2         Food condiments and sauces manufacturer holdin...\n",
      "3                         Beer manufacturer holding company\n",
      "4                         Beer manufacturer holding company\n",
      "5                         Beer manufacturer holding company\n",
      "6                         Beer manufacturer holding company\n",
      "7                         Beer manufacturer holding company\n",
      "8                         Beer manufacturer holding company\n",
      "9                         Beer manufacturer holding company\n",
      "10                        Beer manufacturer holding company\n",
      "11                        Beer manufacturer holding company\n",
      "12                        Beer manufacturer holding company\n",
      "13                        Beer manufacturer holding company\n",
      "14                        Beer manufacturer holding company\n",
      "15                        Beer manufacturer holding company\n",
      "16                        Beer manufacturer holding company\n",
      "17                                                    Newco\n",
      "18                                                    Newco\n",
      "19                                                    Newco\n",
      "20                                                    Newco\n",
      "21                                                    Newco\n",
      "22                                                    Newco\n",
      "23                                                    Newco\n",
      "24        Carbon dioxide manufacturer holding company, N...\n",
      "25        Carbon dioxide manufacturer holding company, N...\n",
      "26        Carbon dioxide manufacturer holding company, N...\n",
      "27        Broadband telecommunications services holding ...\n",
      "28        Broadband telecommunications services holding ...\n",
      "29        Pharmaceutical solutions research and developm...\n",
      "                                ...                        \n",
      "153685                                           Individual\n",
      "153686                                           Individual\n",
      "153687                                           Individual\n",
      "153688                                           Individual\n",
      "153689                                           Individual\n",
      "153690                         Financial software developer\n",
      "153691    Online marketing automation Software-as-a-Serv...\n",
      "153692    340B pharmacy programmes management automated ...\n",
      "153693                                           Individual\n",
      "153694                                           Individual\n",
      "153695    Dentistry practice administrative services hol...\n",
      "153696    Physician practices management and consulting ...\n",
      "153697    Physician practices management and consulting ...\n",
      "153698    Physician practices management and consulting ...\n",
      "153699    Physician practices management and consulting ...\n",
      "153700    Physician practices management and consulting ...\n",
      "153701                      Real estate management services\n",
      "153702    Electronics manufacturer, High-performance mag...\n",
      "153703                   Online marketing platform operator\n",
      "153704    Commercial printing services, Direct marketing...\n",
      "153705    Third party benefits administration services p...\n",
      "153706       Mechanical and industrial engineering services\n",
      "153707    Third party benefits administration services p...\n",
      "153708                     Banking services holding company\n",
      "153709    Third party benefits administration services p...\n",
      "153710    Print industry consumables manufacturer, Print...\n",
      "153711                          Online car auction services\n",
      "153712    Plastic decking products manufacturer, Wood de...\n",
      "153713                       Doors and windows manufacturer\n",
      "153714                       Doors and windows manufacturer\n",
      "Name: Acquiror business description(s), dtype: object\n"
     ]
    }
   ],
   "source": [
    "print d.d[u\"Acquiror business description(s)\"][index]"
   ]
  },
  {
   "cell_type": "code",
   "execution_count": 93,
   "metadata": {
    "collapsed": false,
    "deletable": true,
    "editable": true,
    "scrolled": true
   },
   "outputs": [
    {
     "name": "stdout",
     "output_type": "stream",
     "text": [
      "Investment holding company\n",
      "Chemicals distributor, Rubber and latex products distributor\n",
      "\n",
      "Food condiments and sauces manufacturer holding company, Soft and spreadable cheeses manufacturer holding company, Soft drinks manufacturer holding company\n",
      "Personal care products and consumer goods manufacturer\n",
      "\n",
      "Broadband telecommunications services holding company, Cable television services holding company, High-speed data and voice services holding company, Wireless backhaul services holding company\n",
      "Broadband cable video, data and voice services, Cable television network services\n",
      "\n",
      "Broadband telecommunications services holding company, Cable television services holding company, High-speed data and voice services holding company, Wireless backhaul services holding company\n",
      "Broadband cable video, data and voice services, Cable television network services\n",
      "\n",
      "Broadband telecommunications services holding company, Cable television services holding company, High-speed data and voice services holding company, Wireless backhaul services holding company\n",
      "Cable telecommunication systems operator\n",
      "\n",
      "Broadband telecommunications services holding company, Cable television services holding company, High-speed data and voice services holding company, Wireless backhaul services holding company\n",
      "Cable telecommunication systems operator, Multichannel video programming distribution services, Multichannel video programming production services, News and sports television broadcasting services, Web hosting and managed security, digital TV, business data and fibre services\n",
      "\n",
      "Biopharmaceuticals developer, Biopharmaceuticals manufacturer, Consumer healthcare products manufacturer, Infant food manufacturer, Pharmaceutical products manufacturer\n",
      "Pharmaceutical solutions research and development services, Pharmaceuticals manufacturer\n"
     ]
    }
   ],
   "source": [
    "print d.d[u\"Acquiror business description(s)\"][40873]\n",
    "print d.d[u\"Target business description(s)\"][40873]\n",
    "\n",
    "print\n",
    "print d.d[u\"Acquiror business description(s)\"][1]\n",
    "print d.d[u\"Target business description(s)\"][1]\n",
    "\n",
    "print\n",
    "print d.d[u\"Acquiror business description(s)\"][27]\n",
    "print d.d[u\"Target business description(s)\"][27]\n",
    "\n",
    "print\n",
    "print d.d[u\"Acquiror business description(s)\"][28]\n",
    "print d.d[u\"Target business description(s)\"][28]\n",
    "\n",
    "print\n",
    "print d.d[u\"Acquiror business description(s)\"][271]\n",
    "print d.d[u\"Target business description(s)\"][271]\n",
    " \n",
    "print\n",
    "print d.d[u\"Acquiror business description(s)\"][272]\n",
    "print d.d[u\"Target business description(s)\"][272]\n",
    " \n",
    "print\n",
    "print d.d[u\"Acquiror business description(s)\"][0]\n",
    "print d.d[u\"Target business description(s)\"][0]"
   ]
  },
  {
   "cell_type": "code",
   "execution_count": 66,
   "metadata": {
    "collapsed": false,
    "deletable": true,
    "editable": true,
    "scrolled": true
   },
   "outputs": [
    {
     "ename": "ValueError",
     "evalue": "shapes (1,64) and (1,64) not aligned: 64 (dim 1) != 1 (dim 0)",
     "output_type": "error",
     "traceback": [
      "\u001b[0;31m---------------------------------------------------------------------------\u001b[0m",
      "\u001b[0;31mValueError\u001b[0m                                Traceback (most recent call last)",
      "\u001b[0;32m<ipython-input-66-2bf19bc09caf>\u001b[0m in \u001b[0;36m<module>\u001b[0;34m()\u001b[0m\n\u001b[0;32m----> 1\u001b[0;31m \u001b[0mt\u001b[0m\u001b[0;34m.\u001b[0m\u001b[0mtestOnes\u001b[0m\u001b[0;34m(\u001b[0m\u001b[0;34mu\"Target business description(s)\"\u001b[0m\u001b[0;34m,\u001b[0m\u001b[0;34mu\"Chemicals distributor, Rubber and latex products distributor\"\u001b[0m\u001b[0;34m)\u001b[0m\u001b[0;34m\u001b[0m\u001b[0m\n\u001b[0m",
      "\u001b[0;32m/home/ysasaki/Develop/MAmatch/gruAna/view.py\u001b[0m in \u001b[0;36mtestOnes\u001b[0;34m(self, txt1, txt2)\u001b[0m\n\u001b[1;32m     42\u001b[0m         \u001b[0my1\u001b[0m \u001b[0;34m=\u001b[0m \u001b[0mself\u001b[0m\u001b[0;34m.\u001b[0m\u001b[0moutX1\u001b[0m\u001b[0;34m.\u001b[0m\u001b[0mpredict\u001b[0m\u001b[0;34m(\u001b[0m\u001b[0;34m{\u001b[0m\u001b[0;34m\"input_1\"\u001b[0m\u001b[0;34m:\u001b[0m\u001b[0mnp\u001b[0m\u001b[0;34m.\u001b[0m\u001b[0mexpand_dims\u001b[0m\u001b[0;34m(\u001b[0m\u001b[0mvec1\u001b[0m\u001b[0;34m,\u001b[0m\u001b[0maxis\u001b[0m\u001b[0;34m=\u001b[0m\u001b[0;36m0\u001b[0m\u001b[0;34m)\u001b[0m\u001b[0;34m}\u001b[0m\u001b[0;34m)\u001b[0m\u001b[0;34m\u001b[0m\u001b[0m\n\u001b[1;32m     43\u001b[0m         \u001b[0my2\u001b[0m \u001b[0;34m=\u001b[0m \u001b[0mself\u001b[0m\u001b[0;34m.\u001b[0m\u001b[0moutX1\u001b[0m\u001b[0;34m.\u001b[0m\u001b[0mpredict\u001b[0m\u001b[0;34m(\u001b[0m\u001b[0;34m{\u001b[0m\u001b[0;34m\"input_1\"\u001b[0m\u001b[0;34m:\u001b[0m\u001b[0mnp\u001b[0m\u001b[0;34m.\u001b[0m\u001b[0mexpand_dims\u001b[0m\u001b[0;34m(\u001b[0m\u001b[0mvec2\u001b[0m\u001b[0;34m,\u001b[0m\u001b[0maxis\u001b[0m\u001b[0;34m=\u001b[0m\u001b[0;36m0\u001b[0m\u001b[0;34m)\u001b[0m\u001b[0;34m}\u001b[0m\u001b[0;34m)\u001b[0m\u001b[0;34m\u001b[0m\u001b[0m\n\u001b[0;32m---> 44\u001b[0;31m         \u001b[0;32mreturn\u001b[0m \u001b[0mnp\u001b[0m\u001b[0;34m.\u001b[0m\u001b[0mdot\u001b[0m\u001b[0;34m(\u001b[0m\u001b[0my2\u001b[0m\u001b[0;34m,\u001b[0m\u001b[0my1\u001b[0m\u001b[0;34m)\u001b[0m\u001b[0;34m\u001b[0m\u001b[0m\n\u001b[0m\u001b[1;32m     45\u001b[0m \u001b[0;34m\u001b[0m\u001b[0m\n\u001b[1;32m     46\u001b[0m     \u001b[0;32mdef\u001b[0m \u001b[0mtestAll\u001b[0m\u001b[0;34m(\u001b[0m\u001b[0mself\u001b[0m\u001b[0;34m,\u001b[0m\u001b[0my1\u001b[0m\u001b[0;34m)\u001b[0m\u001b[0;34m:\u001b[0m\u001b[0;34m\u001b[0m\u001b[0m\n",
      "\u001b[0;31mValueError\u001b[0m: shapes (1,64) and (1,64) not aligned: 64 (dim 1) != 1 (dim 0)"
     ]
    }
   ],
   "source": [
    "t.testOnes(u\"Target business description(s)\",u\"Chemicals distributor, Rubber and latex products distributor\")"
   ]
  },
  {
   "cell_type": "code",
   "execution_count": 136,
   "metadata": {
    "collapsed": false,
    "deletable": true,
    "editable": true
   },
   "outputs": [
    {
     "name": "stdout",
     "output_type": "stream",
     "text": [
      "\n",
      "0.281243 0.594786     Investment holding company     Chemicals distributor, Rubber and latex products distributor\n",
      "\n",
      "-0.500957 0.761297     Food condiments and sauces manufacturer holding company, Soft and spreadable cheeses manufacturer holding company, Soft drinks manufacturer holding company     Personal care products and consumer goods manufacturer\n",
      "\n",
      "-0.260273 0.855174     Broadband telecommunications services holding company, Cable television services holding company, High-speed data and voice services holding company, Wireless backhaul services holding company     Broadband cable video, data and voice services, Cable television network services\n",
      "\n",
      "0.351546 0.769795     Broadband telecommunications services holding company, Cable television services holding company, High-speed data and voice services holding company, Wireless backhaul services holding company     Cable telecommunication systems operator\n",
      "\n",
      "0.0322355 0.803436     Broadband telecommunications services holding company, Cable television services holding company, High-speed data and voice services holding company, Wireless backhaul services holding company     Cable telecommunication systems operator, Multichannel video programming distribution services, Multichannel video programming production services, News and sports television broadcasting services, Web hosting and managed security, digital TV, business data and fibre services\n",
      "\n",
      "1.0 1.0     Broadband telecommunications services holding company     Broadband telecommunications services holding company\n",
      "\n",
      "0.25915 0.889683     Broadband telecommunications holding company     Broadband telecommunications services company\n",
      "\n",
      "0.863069 0.752855     Broadband telecommunications     telecommunications services\n",
      "\n",
      "-0.602787 0.757807     Biopharmaceuticals developer, Biopharmaceuticals manufacturer, Consumer healthcare products manufacturer, Infant food manufacturer, Pharmaceutical products manufacturer     Pharmaceutical solutions research and development services, Pharmaceuticals manufacturer\n",
      "\n",
      "0.378385 0.413777     Biopharmaceuticals     telecommunications\n",
      "\n",
      "-0.427713 0.202447     Food     telecommunications\n",
      "\n",
      "-0.268937 0.521942     Food     Investment\n",
      "\n",
      "-0.704674 0.574936     Broadband     telecommunications\n",
      "\n",
      "-0.516221 0.597677     Broadband food     telecommunications\n",
      "\n",
      "0.42094 0.668936     Chemicals distributor     Rubber and latex products distributor\n",
      "\n",
      "-0.836437 0.560344     Food distributor     Rubber and latex products distributor\n",
      "\n",
      "0.469638 0.346247     telecommunication     Rubber and latex products distributor\n",
      "\n",
      "0.0068735 0.540264     Chemicals     Rubber and latex products distributor\n",
      "\n",
      "0.843059 0.253599     Chemicals     food\n",
      "\n",
      "0.155769 0.16881     Chemicals     telecommunication\n"
     ]
    }
   ],
   "source": [
    "def testOnes(t1,t2,nLength=20):\n",
    "    v1 = t.dAcc.str_to_w2v(t1,fixedLength=nLength)\n",
    "    v2 = t.dAcc.str_to_w2v(t2,fixedLength=nLength)\n",
    "    y1 = t.outX1.predict({\"input_1\":np.expand_dims(v1,axis=0)})[0]\n",
    "    y2 = t.outX1.predict({\"input_1\":np.expand_dims(v2,axis=0)})[0]\n",
    "    #print v1,v2\n",
    "    #print np.dot(v1,v2)\n",
    "    res = np.dot(y1,y2)\n",
    "    #v1,v2 = v1[0],v2[0]\n",
    "    #v1,v2 = np.sum(v1,axis=0)/np.sum(np.linalg.norm(v1,axis=0)>0),np.sum(v2,axis=0)/np.sum(np.linalg.norm(v2,axis=0)>0)\n",
    "    def myMean(v):\n",
    "        s = []\n",
    "        c = 0\n",
    "        for x in v:\n",
    "            if np.linalg.norm(x)>0.:\n",
    "                s.append(x)\n",
    "                c += 1\n",
    "        s = np.array(s)\n",
    "        s = np.sum(s,axis=0)\n",
    "        s = s/c\n",
    "\n",
    "        s /= np.linalg.norm(s)\n",
    "\n",
    "        return s\n",
    "    \n",
    "    v1,v2 = myMean(v1),myMean(v2)\n",
    "    mmm = np.dot(v1,v2)\n",
    "    \n",
    "        \n",
    "    #mmm = np.dot(v1,v2)/np.dot(v1,v1)/np.dot(v2,v2)\n",
    "    print\n",
    "    print res, mmm,\"   \",t1,\"   \",t2\n",
    "    return\n",
    "testOnes(\"Investment holding company\",\"Chemicals distributor, Rubber and latex products distributor\")\n",
    "testOnes(\"Food condiments and sauces manufacturer holding company, Soft and spreadable cheeses manufacturer holding company, Soft drinks manufacturer holding company\",\"Personal care products and consumer goods manufacturer\")\n",
    "testOnes(\"Broadband telecommunications services holding company, Cable television services holding company, High-speed data and voice services holding company, Wireless backhaul services holding company\",\"Broadband cable video, data and voice services, Cable television network services\")\n",
    "testOnes(\"Broadband telecommunications services holding company, Cable television services holding company, High-speed data and voice services holding company, Wireless backhaul services holding company\",\"Cable telecommunication systems operator\")\n",
    "testOnes(\"Broadband telecommunications services holding company, Cable television services holding company, High-speed data and voice services holding company, Wireless backhaul services holding company\",\"Cable telecommunication systems operator, Multichannel video programming distribution services, Multichannel video programming production services, News and sports television broadcasting services, Web hosting and managed security, digital TV, business data and fibre services\")\n",
    "\n",
    "testOnes(\"Broadband telecommunications services holding company\",\"Broadband telecommunications services holding company\")\n",
    "testOnes(\"Broadband telecommunications holding company\",\"Broadband telecommunications services company\")\n",
    "\n",
    "\n",
    "testOnes(\"Broadband telecommunications\",\"telecommunications services\")\n",
    "\n",
    "testOnes(\"Biopharmaceuticals developer, Biopharmaceuticals manufacturer, Consumer healthcare products manufacturer, Infant food manufacturer, Pharmaceutical products manufacturer\",\"Pharmaceutical solutions research and development services, Pharmaceuticals manufacturer\")\n",
    "testOnes(\"Biopharmaceuticals\",\"telecommunications\")\n",
    "testOnes(\"Food\",\"telecommunications\")\n",
    "testOnes(\"Food\",\"Investment\")\n",
    "testOnes(\"Broadband\",\"telecommunications\")\n",
    "testOnes(\"Broadband food\",\"telecommunications\")\n",
    "\n",
    "testOnes(\"Chemicals distributor\", \"Rubber and latex products distributor\")\n",
    "testOnes(\"Food distributor\", \"Rubber and latex products distributor\")\n",
    "testOnes(\"telecommunication\", \"Rubber and latex products distributor\")\n",
    "testOnes(\"Chemicals\", \"Rubber and latex products distributor\")\n",
    "testOnes(\"Chemicals\", \"food\")\n",
    "testOnes(\"Chemicals\", \"telecommunication\")\n",
    "#    t.test(\"Biopharmaceuticals developer, Biopharmaceuticals manufacturer, Consumer healthcare products manufacturer, Infant food manufacturer, Pharmaceutical products manufacturer\")\n",
    "#    t.test(\"Food condiments and sauces manufacturer holding company, Soft and spreadable cheeses manufacturer holding company, Soft drinks manufacturer holding company\")\n",
    "#    t.test(\"Broadband telecommunications services holding company, Cable television services holding company, High-speed data and voice services holding company, Wireless backhaul services holding company\")\n"
   ]
  },
  {
   "cell_type": "code",
   "execution_count": null,
   "metadata": {
    "collapsed": true,
    "deletable": true,
    "editable": true
   },
   "outputs": [],
   "source": []
  }
 ],
 "metadata": {
  "kernelspec": {
   "display_name": "Python 2",
   "language": "python",
   "name": "python2"
  },
  "language_info": {
   "codemirror_mode": {
    "name": "ipython",
    "version": 2
   },
   "file_extension": ".py",
   "mimetype": "text/x-python",
   "name": "python",
   "nbconvert_exporter": "python",
   "pygments_lexer": "ipython2",
   "version": "2.7.13"
  }
 },
 "nbformat": 4,
 "nbformat_minor": 2
}
